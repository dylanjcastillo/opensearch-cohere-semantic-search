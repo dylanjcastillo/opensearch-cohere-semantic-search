{
 "cells": [
  {
   "cell_type": "code",
   "execution_count": 5,
   "metadata": {},
   "outputs": [],
   "source": [
    "import pandas as pd\n",
    "\n",
    "df = pd.read_csv(\"../data/news.csv\", index_col=0).dropna(subset=[\"content\", \"title\", \"description\"]).sample(1500)\n",
    "df[\"text\"] = (\n",
    "    df[\"title\"] + \"\\n\" + df[\"description\"] + \"\\n\" + df[\"content\"]\n",
    ")\n",
    "df.to_csv(\"../data/news_sample.csv\", index=False)"
   ]
  }
 ],
 "metadata": {
  "kernelspec": {
   "display_name": ".venv",
   "language": "python",
   "name": "python3"
  },
  "language_info": {
   "codemirror_mode": {
    "name": "ipython",
    "version": 3
   },
   "file_extension": ".py",
   "mimetype": "text/x-python",
   "name": "python",
   "nbconvert_exporter": "python",
   "pygments_lexer": "ipython3",
   "version": "3.11.1"
  },
  "orig_nbformat": 4
 },
 "nbformat": 4,
 "nbformat_minor": 2
}
